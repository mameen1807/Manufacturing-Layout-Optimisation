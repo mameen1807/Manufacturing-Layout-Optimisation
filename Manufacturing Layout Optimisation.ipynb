{
 "cells": [
  {
   "cell_type": "markdown",
   "id": "8877162b",
   "metadata": {},
   "source": [
    "# Manufacturing Layout Optimisation\n",
    "\n",
    "This notebook demonstrates **job shop layout optimisation** using:\n",
    "1. Discrete-Event Simulation (DES) for job processing.\n",
    "2. Simulated Annealing to explore different station layouts.\n",
    "3. Comparison of initial and optimised layouts by average completion time.\n"
   ]
  },
  {
   "cell_type": "code",
   "execution_count": 75,
   "id": "f13803e8",
   "metadata": {},
   "outputs": [],
   "source": [
    "import simpy\n",
    "import random\n",
    "import matplotlib.pyplot as plt\n"
   ]
  },
  {
   "cell_type": "markdown",
   "id": "87d63687",
   "metadata": {},
   "source": [
    "## Job Shop Simulation Class\n"
   ]
  },
  {
   "cell_type": "code",
   "execution_count": 76,
   "id": "04a67feb",
   "metadata": {},
   "outputs": [],
   "source": [
    "class JobShop:\n",
    "    def __init__(self, env, stations):\n",
    "        self.env = env\n",
    "        self.stations = {name: simpy.Resource(env, capacity=1) for name in stations}\n",
    "\n",
    "    def process_job(self, job_id, route):\n",
    "        total_time = 0\n",
    "        for station, duration in route:\n",
    "            with self.stations[station].request() as req:\n",
    "                yield req\n",
    "                yield self.env.timeout(duration)\n",
    "                total_time += duration\n",
    "        return total_time\n"
   ]
  },
  {
   "cell_type": "markdown",
   "id": "6c0b1121",
   "metadata": {},
   "source": [
    "## Simulation Function\n"
   ]
  },
  {
   "cell_type": "code",
   "execution_count": 77,
   "id": "abe4c628",
   "metadata": {},
   "outputs": [],
   "source": [
    "def simulate_layout(layout, num_jobs=10):\n",
    "    env = simpy.Environment()\n",
    "    shop = JobShop(env, layout)\n",
    "    job_times = []\n",
    "\n",
    "    def job_process(job_id):\n",
    "        route = [(station, random.randint(1, 5)) for station in layout]\n",
    "        start = env.now\n",
    "        yield env.process(shop.process_job(job_id, route))\n",
    "        job_times.append(env.now - start)\n",
    "\n",
    "    for j in range(num_jobs):\n",
    "        env.process(job_process(j))\n",
    "\n",
    "    env.run()\n",
    "    return sum(job_times)/len(job_times)\n"
   ]
  },
  {
   "cell_type": "markdown",
   "id": "0c35f025",
   "metadata": {},
   "source": [
    "## Simulated Annealing Optimisation\n"
   ]
  },
  {
   "cell_type": "code",
   "execution_count": 78,
   "id": "4710be29",
   "metadata": {},
   "outputs": [],
   "source": [
    "def simulated_annealing(stations, iterations=50, initial_temp=10, cooling_rate=0.95):\n",
    "    current_layout = stations.copy()\n",
    "    best_layout = stations.copy()\n",
    "    best_score = simulate_layout(best_layout)\n",
    "    current_score = best_score\n",
    "    history = [best_score]\n",
    "\n",
    "    temp = initial_temp\n",
    "\n",
    "    for _ in range(iterations):\n",
    "        candidate = current_layout.copy()\n",
    "        i, j = random.sample(range(len(candidate)), 2)\n",
    "        candidate[i], candidate[j] = candidate[j], candidate[i]\n",
    "        score = simulate_layout(candidate)\n",
    "\n",
    "        # Accept better or occasionally worse layout\n",
    "        if score < current_score or random.random() < (2.718 ** ((current_score - score) / temp)):\n",
    "            current_layout = candidate\n",
    "            current_score = score\n",
    "            if score < best_score:\n",
    "                best_layout = candidate\n",
    "                best_score = score\n",
    "\n",
    "        temp *= cooling_rate\n",
    "        history.append(best_score)\n",
    "\n",
    "    return best_layout, best_score, history\n"
   ]
  },
  {
   "cell_type": "markdown",
   "id": "1d490720",
   "metadata": {},
   "source": [
    "## Run Optimisation\n"
   ]
  },
  {
   "cell_type": "code",
   "execution_count": 123,
   "id": "a6745405",
   "metadata": {},
   "outputs": [
    {
     "name": "stdout",
     "output_type": "stream",
     "text": [
      "Initial layout ['A', 'B', 'C'] -> Avg Time 26.10\n",
      "Optimised layout ['B', 'A', 'C'] -> Avg Time 20.10\n"
     ]
    }
   ],
   "source": [
    "stations = ['A', 'B', 'C']  # Example stations\n",
    "best_layout, best_score, history = simulated_annealing(stations, iterations=50)\n",
    "\n",
    "print(f\"Initial layout {stations} -> Avg Time {simulate_layout(stations):.2f}\")\n",
    "print(f\"Optimised layout {best_layout} -> Avg Time {best_score:.2f}\")\n"
   ]
  },
  {
   "cell_type": "markdown",
   "id": "5e867242",
   "metadata": {},
   "source": [
    "## Visualise Optimisation Progress\n"
   ]
  },
  {
   "cell_type": "code",
   "execution_count": 125,
   "id": "3eab6cec",
   "metadata": {},
   "outputs": [
    {
     "data": {
      "image/png": "[encoded data removed]",
      "text/plain": [
       "<Figure size 640x480 with 1 Axes>"
      ]
     },
     "metadata": {},
     "output_type": "display_data"
    }
   ],
   "source": [
    "plt.plot(history, marker='o')\n",
    "plt.xlabel('Iteration')\n",
    "plt.ylabel('Best Avg Job Completion Time')\n",
    "plt.title('Layout Optimisation Progress')\n",
    "plt.grid(True)\n",
    "plt.show()\n"
   ]
  },
  {
   "cell_type": "markdown",
   "id": "b4a80b21",
   "metadata": {},
   "source": [
    "### Notes & Extensions\n",
    "- Increase `n_jobs` for more stable simulation results.\n",
    "- Tune `T`, `cooling`, and `n_iter` for better optimisation performance.\n",
    "- Can extend to more stations or realistic processing distributions.\n"
   ]
  }
 ],
 "metadata": {
  "kernelspec": {
   "display_name": "Python 3",
   "language": "python",
   "name": "python3"
  },
  "language_info": {
   "codemirror_mode": {
    "name": "ipython",
    "version": 3
   },
   "file_extension": ".py",
   "mimetype": "text/x-python",
   "name": "python",
   "nbconvert_exporter": "python",
   "pygments_lexer": "ipython3",
   "version": "3.13.6"
  }
 },
 "nbformat": 4,
 "nbformat_minor": 5
}
